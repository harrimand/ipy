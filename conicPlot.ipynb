{
 "metadata": {
  "name": "",
  "signature": "sha256:1e56033cbf47726b7e067075a5a781c5368dc695517d59be00e499bd05d00669"
 },
 "nbformat": 3,
 "nbformat_minor": 0,
 "worksheets": [
  {
   "cells": [
    {
     "cell_type": "code",
     "collapsed": false,
     "input": [
      "import numpy as np\n",
      "import matplotlib.pyplot as plt\n",
      "from mpl_toolkits.mplot3d import Axes3D\n",
      "\n",
      "point  = np.array([1, 2, 3])\n",
      "normal = np.array([1, 1, 2])\n",
      "# a plane is a*x+b*y+c*z+d=0\n",
      "\n",
      "d = -point.dot(normal)\n",
      "\n",
      "# create x,y\n",
      "xx, yy = np.meshgrid(range(11), range(11))\n",
      "xmid = 5\n",
      "ymid = 5\n",
      "\n",
      "# calculate corresponding z\n",
      "# z = (-normal[0] * xx - normal[1] * yy - d) * 1. /normal[2]\n",
      "z = 4.5 - np.sqrt((xmid-xx)**2 + (ymid-yy)**2)\n",
      "\n",
      "zp = (-normal[0] * xx - normal[1] * yy - d) * 1. /normal[2]\n",
      "\n",
      "print(z)\n",
      "\n",
      "# plot the surface\n",
      "plt3d = plt.figure().gca(projection='3d')\n",
      "\n",
      "plt.ion()\n",
      "\n",
      "plt3d.plot_surface(xx, yy, z, alpha= 0.5, color='r')\n",
      "\n",
      "plt3d.plot_surface(xx, yy, zp, alpha= 0.5, color='b')\n",
      "\n",
      "plt3d.set_xlabel(\"X X X\")\n",
      "plt3d.set_ylabel(\"Y Y Y\")\n",
      "plt3d.set_zlabel(\"Z Z Z\")\n",
      "\n",
      "\n",
      "xl = [0, 10]\n",
      "yl = [5, 5]\n",
      "zl = [0, 0]\n",
      "\n",
      "plt3d.plot(xl, yl, zl)\n",
      "\n",
      "plt.show()\n"
     ],
     "language": "python",
     "metadata": {},
     "outputs": [
      {
       "output_type": "stream",
       "stream": "stdout",
       "text": [
        "[[-2.57106781 -1.90312424 -1.33095189 -0.88516481 -0.59901951 -0.5\n",
        "  -0.59901951 -0.88516481 -1.33095189 -1.90312424 -2.57106781]\n",
        " [-1.90312424 -1.15685425 -0.5         0.02786405  0.37689437  0.5\n",
        "   0.37689437  0.02786405 -0.5        -1.15685425 -1.90312424]\n",
        " [-1.33095189 -0.5         0.25735931  0.89444872  1.33772234  1.5\n",
        "   1.33772234  0.89444872  0.25735931 -0.5        -1.33095189]\n",
        " [-0.88516481  0.02786405  0.89444872  1.67157288  2.26393202  2.5\n",
        "   2.26393202  1.67157288  0.89444872  0.02786405 -0.88516481]\n",
        " [-0.59901951  0.37689437  1.33772234  2.26393202  3.08578644  3.5\n",
        "   3.08578644  2.26393202  1.33772234  0.37689437 -0.59901951]\n",
        " [-0.5         0.5         1.5         2.5         3.5         4.5         3.5\n",
        "   2.5         1.5         0.5        -0.5       ]\n",
        " [-0.59901951  0.37689437  1.33772234  2.26393202  3.08578644  3.5\n",
        "   3.08578644  2.26393202  1.33772234  0.37689437 -0.59901951]\n",
        " [-0.88516481  0.02786405  0.89444872  1.67157288  2.26393202  2.5\n",
        "   2.26393202  1.67157288  0.89444872  0.02786405 -0.88516481]\n",
        " [-1.33095189 -0.5         0.25735931  0.89444872  1.33772234  1.5\n",
        "   1.33772234  0.89444872  0.25735931 -0.5        -1.33095189]\n",
        " [-1.90312424 -1.15685425 -0.5         0.02786405  0.37689437  0.5\n",
        "   0.37689437  0.02786405 -0.5        -1.15685425 -1.90312424]\n",
        " [-2.57106781 -1.90312424 -1.33095189 -0.88516481 -0.59901951 -0.5\n",
        "  -0.59901951 -0.88516481 -1.33095189 -1.90312424 -2.57106781]]\n"
       ]
      }
     ],
     "prompt_number": 22
    },
    {
     "cell_type": "code",
     "collapsed": false,
     "input": [],
     "language": "python",
     "metadata": {},
     "outputs": []
    }
   ],
   "metadata": {}
  }
 ]
}