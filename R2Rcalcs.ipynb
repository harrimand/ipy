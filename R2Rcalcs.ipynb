{
 "metadata": {
  "name": "",
  "signature": "sha256:837c404ed42c30f6c52d563069030a7d20d35386a9a0cb9e2fb4b6366d32a110"
 },
 "nbformat": 3,
 "nbformat_minor": 0,
 "worksheets": [
  {
   "cells": [
    {
     "cell_type": "code",
     "collapsed": false,
     "input": [
      "import numpy as np\n",
      "from scipy import linalg"
     ],
     "language": "python",
     "metadata": {},
     "outputs": [],
     "prompt_number": 14
    },
    {
     "cell_type": "code",
     "collapsed": false,
     "input": [
      "digitalInput = 188\n",
      "R = 1200"
     ],
     "language": "python",
     "metadata": {},
     "outputs": [],
     "prompt_number": 15
    },
    {
     "cell_type": "code",
     "collapsed": false,
     "input": [
      "'''\n",
      "# resistor to resistor network for 8 bit Digital to Analog Coverter\n",
      "# Create a Matrix with coefficients for system of 8 equations.\n",
      "r2r = np.matrix([\n",
      "[-5*R, 2*R, 0, 0, 0, 0, 0, 0],\n",
      "[2*R, -5*R, 2*R, 0, 0, 0, 0, 0],\n",
      "[0, 2*R, -5*R, 2*R, 0, 0, 0, 0],\n",
      "[0, 0, 2*R, -5*R, 2*R, 0, 0, 0],\n",
      "[0, 0, 0, 2*R, -5*R, 2*R, 0, 0],\n",
      "[0, 0, 0, 0, 2*R, -5*R, 2*R, 0],\n",
      "[0, 0, 0, 0, 0, 2*R, -5*R, 2*R],\n",
      "[0, 0, 0, 0, 0, 0, 2*R, -4*R]\n",
      "], dtype=np.float)\n",
      "'''"
     ],
     "language": "python",
     "metadata": {},
     "outputs": [
      {
       "metadata": {},
       "output_type": "pyout",
       "prompt_number": 16,
       "text": [
        "'\\n# resistor to resistor network for 8 bit Digital to Analog Coverter\\n# Create a Matrix with coefficients for system of 8 equations.\\nr2r = np.matrix([\\n[-5*R, 2*R, 0, 0, 0, 0, 0, 0],\\n[2*R, -5*R, 2*R, 0, 0, 0, 0, 0],\\n[0, 2*R, -5*R, 2*R, 0, 0, 0, 0],\\n[0, 0, 2*R, -5*R, 2*R, 0, 0, 0],\\n[0, 0, 0, 2*R, -5*R, 2*R, 0, 0],\\n[0, 0, 0, 0, 2*R, -5*R, 2*R, 0],\\n[0, 0, 0, 0, 0, 2*R, -5*R, 2*R],\\n[0, 0, 0, 0, 0, 0, 2*R, -4*R]\\n], dtype=np.float)\\n'"
       ]
      }
     ],
     "prompt_number": 16
    },
    {
     "cell_type": "code",
     "collapsed": false,
     "input": [
      "r2r = np.zeros((8,8))\n",
      "for i in range(0,7):\n",
      "    r2r[i][i] = 5 * R\n",
      "    r2r[i][i+1] = 2 * R\n",
      "    r2r[i+1][i] = 2 * R\n",
      "r2r[7][7] = 4 * R"
     ],
     "language": "python",
     "metadata": {},
     "outputs": [],
     "prompt_number": 17
    },
    {
     "cell_type": "code",
     "collapsed": false,
     "input": [
      "print(r2r)"
     ],
     "language": "python",
     "metadata": {},
     "outputs": [
      {
       "output_type": "stream",
       "stream": "stdout",
       "text": [
        "[[ 6000.  2400.     0.     0.     0.     0.     0.     0.]\n",
        " [ 2400.  6000.  2400.     0.     0.     0.     0.     0.]\n",
        " [    0.  2400.  6000.  2400.     0.     0.     0.     0.]\n",
        " [    0.     0.  2400.  6000.  2400.     0.     0.     0.]\n",
        " [    0.     0.     0.  2400.  6000.  2400.     0.     0.]\n",
        " [    0.     0.     0.     0.  2400.  6000.  2400.     0.]\n",
        " [    0.     0.     0.     0.     0.  2400.  6000.  2400.]\n",
        " [    0.     0.     0.     0.     0.     0.  2400.  4800.]]\n"
       ]
      }
     ],
     "prompt_number": 18
    },
    {
     "cell_type": "code",
     "collapsed": false,
     "input": [
      "binInput = bin(digitalInput)[2:].zfill(8)\n",
      "\n",
      "print(\"----  Input  \", digitalInput, \"  ----\")\n",
      "print(\"----  Binary  \", binInput, \"  ----\")"
     ],
     "language": "python",
     "metadata": {},
     "outputs": [
      {
       "output_type": "stream",
       "stream": "stdout",
       "text": [
        "----  Input   188   ----\n",
        "----  Binary   10111100   ----\n"
       ]
      }
     ],
     "prompt_number": 19
    },
    {
     "cell_type": "code",
     "collapsed": false,
     "input": [
      "# Make List of voltages for each loop based on binary input\n",
      "# v[0] = voltage drop, rise or no change from bit 6 to bit 7\n",
      "# v[1] = voltage drop, rise or no change from bit 5 to bit 6\n",
      "# repeat for v[2] .. v[6]\n",
      "v = [] #List to contain voltages for each loop\n",
      "vL = [0, -5, 5, 0]\n",
      "v7 = 0\n",
      "for b in range(7):\n",
      "    volt = vL[int(binInput[b]+binInput[b+1], 2)]\n",
      "    v7 += volt\n",
      "    v.append([volt])\n",
      "# v[7] = voltage rise or no change from v=0 to bit 0 \n",
      "volt = vL[int(binInput[7]+\"0\", 2)] # Voltage on bit 0 input\n",
      "v7 += volt\n",
      "v.append([volt])\n",
      "\n",
      "print(\"V: \", v, \"\\n\")\n",
      "\n",
      "V = np.matrix(v) # Make numPy Matrix from list of voltages\n",
      "\n",
      "# print(\"V matrix: \", V)\n",
      "print(\"-\"*80, \"\\n\")"
     ],
     "language": "python",
     "metadata": {},
     "outputs": [
      {
       "output_type": "stream",
       "stream": "stdout",
       "text": [
        "V:  [[5], [-5], [0], [0], [0], [5], [0], [0]] \n",
        "\n",
        "-------------------------------------------------------------------------------- \n",
        "\n"
       ]
      }
     ],
     "prompt_number": 20
    },
    {
     "cell_type": "code",
     "collapsed": false,
     "input": [
      "schematic = [\n",
      "\" \" * 6  + \"\".join([\"     V\" + str(r) for r in range(7, -1, -1)]),\n",
      "\" \" * 6  + \"\".join([(\"     \" if Vn[0] >= 0 else \"    \") + str(Vn[0]) + \"V\" for Vn in v]),\n",
      "\"\\t\" + \"o--||--\" * 8,\n",
      "\"\\t\" + \"|      \" * 8 + \"|\",\n",
      "\"\\t\" + \"\\      \" * 8 + \"|\",\n",
      "\"  \" + \"\".join([\"   R\" + str(r) + \" /\" for r in range(7, -1, -1)]) + \"      |\",\n",
      "\"\\t\" + \"\\      \" * 8 + \"|\",\n",
      "\"\\t\" + \"/      \" * 8 + \"|\",\n",
      "\"\\t\" + \"|      \" * 8 + \"|\",\n",
      "\"    o---\" + \"--===--\" * 8 + \"----|GND\",\n",
      "\"        \" + (\"  \" + str(R / 1000) + \"K \") * 7 + \"  \" + str(2 * R / 1000) + \"K \",\n",
      "\" \\n    R7..R0 = \" + str(2 * R / 1000) + \"K\\n\"\n",
      "]\n"
     ],
     "language": "python",
     "metadata": {},
     "outputs": [],
     "prompt_number": 21
    },
    {
     "cell_type": "code",
     "collapsed": false,
     "input": [
      "IL = r2r.I @ V # Multiply r2r Inverse Matrix X Voltage Matrix\n",
      "I7 = IL.tolist()[0][0] # Extract I7 Current from Current Matrix"
     ],
     "language": "python",
     "metadata": {},
     "outputs": [
      {
       "ename": "AttributeError",
       "evalue": "'numpy.ndarray' object has no attribute 'I'",
       "output_type": "pyerr",
       "traceback": [
        "\u001b[0;31m---------------------------------------------------------------------------\u001b[0m\n\u001b[0;31mAttributeError\u001b[0m                            Traceback (most recent call last)",
        "\u001b[0;32m<ipython-input-22-819eadd00447>\u001b[0m in \u001b[0;36m<module>\u001b[0;34m()\u001b[0m\n\u001b[0;32m----> 1\u001b[0;31m \u001b[0mIL\u001b[0m \u001b[0;34m=\u001b[0m \u001b[0mr2r\u001b[0m\u001b[0;34m.\u001b[0m\u001b[0mI\u001b[0m \u001b[0;34m@\u001b[0m \u001b[0mV\u001b[0m \u001b[0;31m# Multiply r2r Inverse Matrix X Voltage Matrix\u001b[0m\u001b[0;34m\u001b[0m\u001b[0m\n\u001b[0m\u001b[1;32m      2\u001b[0m \u001b[0mI7\u001b[0m \u001b[0;34m=\u001b[0m \u001b[0mIL\u001b[0m\u001b[0;34m.\u001b[0m\u001b[0mtolist\u001b[0m\u001b[0;34m(\u001b[0m\u001b[0;34m)\u001b[0m\u001b[0;34m[\u001b[0m\u001b[0;36m0\u001b[0m\u001b[0;34m]\u001b[0m\u001b[0;34m[\u001b[0m\u001b[0;36m0\u001b[0m\u001b[0;34m]\u001b[0m \u001b[0;31m# Extract I7 Current from Current Matrix\u001b[0m\u001b[0;34m\u001b[0m\u001b[0m\n",
        "\u001b[0;31mAttributeError\u001b[0m: 'numpy.ndarray' object has no attribute 'I'"
       ]
      }
     ],
     "prompt_number": 22
    },
    {
     "cell_type": "code",
     "collapsed": false,
     "input": [
      "print(\"\\n\\n\")\n",
      "for c in schematic:\n",
      "    print(c)\n",
      "print(\" Currents: \\n\", IL, \"\\n\")\n",
      "print(\"-\"*80, \"\\n\")\n",
      "print(\"----  Input  \", digitalInput, \"  ----\\n\")\n",
      "print(\"----  Binary  \", binInput, \"  ----\\n\")\n",
      "print(\"R7 Current: \", I7)\n",
      "print(\"\\nV7 voltage: \", v7)\n",
      "print(\"\\nR7 Volts: \", I7 * 2 * R) # Calculate Voltage on R7\n",
      "print(\"\\nVout: \", v7 + I7 * 2 * R, \"\\n\\n\") # Add signed voltage to V7"
     ],
     "language": "python",
     "metadata": {},
     "outputs": []
    },
    {
     "cell_type": "code",
     "collapsed": false,
     "input": [],
     "language": "python",
     "metadata": {},
     "outputs": []
    }
   ],
   "metadata": {}
  }
 ]
}