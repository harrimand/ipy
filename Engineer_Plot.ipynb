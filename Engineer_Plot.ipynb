{
 "metadata": {
  "name": "",
  "signature": "sha256:786aaf65e8abea70bf67a69fe6504f18761d3769459821f568f77512f4c84f2e"
 },
 "nbformat": 3,
 "nbformat_minor": 0,
 "worksheets": [
  {
   "cells": [
    {
     "cell_type": "code",
     "collapsed": false,
     "input": [
      "'''\n",
      "=========================================\n",
      "Labeling ticks using engineering notation\n",
      "=========================================\n",
      "\n",
      "Demo to show use of the engineering Formatter.\n",
      "'''\n",
      "\n",
      "import matplotlib.pyplot as plt\n",
      "import numpy as np\n",
      "\n",
      "from matplotlib.ticker import EngFormatter\n",
      "\n",
      "prng = np.random.RandomState(123)\n",
      "\n",
      "fig, ax = plt.subplots()\n",
      "ax.set_xscale('log')\n",
      "formatter = EngFormatter(unit='Hz')\n",
      "ax.xaxis.set_major_formatter(formatter)\n",
      "\n",
      "ax.grid(color='g', linestyle=':', linewidth=1)\n",
      "xs = np.logspace(1, 10, 100)\n",
      "ys = (0.8 + 0.4 * prng.uniform(size=100)) * np.log10(xs)**2\n",
      "ax.plot(xs, ys)\n",
      "\n",
      "plt.title(\"Random Logarithmic\")\n",
      "\n",
      "plt.show()"
     ],
     "language": "python",
     "metadata": {},
     "outputs": [],
     "prompt_number": 1
    },
    {
     "cell_type": "code",
     "collapsed": false,
     "input": [],
     "language": "python",
     "metadata": {},
     "outputs": []
    }
   ],
   "metadata": {}
  }
 ]
}