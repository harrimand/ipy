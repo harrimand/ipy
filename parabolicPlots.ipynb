{
 "metadata": {
  "name": "",
  "signature": "sha256:8f18b10095cf0810835f6c1279757944e26092a953d5a6dd50b2af13b23685c7"
 },
 "nbformat": 3,
 "nbformat_minor": 0,
 "worksheets": [
  {
   "cells": [
    {
     "cell_type": "code",
     "collapsed": false,
     "input": [
      "import matplotlib.pyplot as plt\n",
      "import numpy as np\n",
      "\n",
      "parab = 1\n",
      "\n",
      "#------------------------------------------------------------\n",
      "\n",
      "h = 2  # vertex X\n",
      "k = 3  # vertex y\n",
      "p = 2  # distance from vertex to focus and vertex to directix\n",
      "# 4p(y-k)=(x-h)**2\n",
      "# 4 * 2 * (y - 3) = (x - 2)**2\n",
      "# 8 * y - 24 = x**2 - 4 * x + 4\n",
      "# 8 * y = x**2 - 4 * x + 28\n",
      "# y = x**2/8 - x/2 + 7/2\n",
      "if(parab == 1):\n",
      "    x = np.linspace(-6, 10, 24)\n",
      "    y = x**2/8 - x/2 + 7/2\n",
      "    plt.plot(x, y)\n",
      "    plt.xlim(-6, 10)\n",
      "    plt.ylim(0, max(y))\n",
      "    plt.yticks(np.arange(0, max(y), 1))\n",
      "    plt.scatter(h, k)#, 'ro', label='vertex')\n",
      "#------------------------------------------------------------\n",
      "# Quadratic Form\n",
      "if(parab == 2):\n",
      "    x = np.linspace(-5, 3, 24)\n",
      "    y = x**2/4 + x/2 + 9/4\n",
      "    plt.plot(x, y)\n",
      "    plt.xlim(-6, 4)\n",
      "    plt.ylim(0, max(y))\n",
      "    plt.yticks(np.arange(0, max(y), 1))\n",
      "    plt.xticks(np.arange(-6, 4, 1))\n",
      "\n",
      "# 4*(y) = x**2 + 2*x + 9\n",
      "# 4 * y - 8 = x**2 + 2*x + 9 - 8\n",
      "# 4 * (y - 2) = x**2 + 2*x + 1\n",
      "# 4 * (y - 2) = (x + 1)**2\n",
      "# Conic form\n",
      "# 4p(y-k)=(x-h)**2\n",
      "# 4(y-2)=(x+1)**2\n",
      "# p = 1, k = 2, h = -1\n",
      "\n",
      "\n",
      "#------------------------------------------------------------\n",
      "\n",
      "\n",
      "plt.show()\n",
      "plt.ion()\n",
      "plt.grid(True)\n"
     ],
     "language": "python",
     "metadata": {},
     "outputs": [],
     "prompt_number": 20
    },
    {
     "cell_type": "code",
     "collapsed": false,
     "input": [],
     "language": "python",
     "metadata": {},
     "outputs": []
    }
   ],
   "metadata": {}
  }
 ]
}