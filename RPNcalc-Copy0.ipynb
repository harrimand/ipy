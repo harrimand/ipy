{
 "metadata": {
  "name": "",
  "signature": "sha256:003ec8353bda73ff4dda1de4d61ccb307c81b9da3a9b05136c9577ebdd9ade64"
 },
 "nbformat": 3,
 "nbformat_minor": 0,
 "worksheets": [
  {
   "cells": [
    {
     "cell_type": "code",
     "collapsed": false,
     "input": [
      "class rpn:\n",
      "    def __init__(self, inStr=''):\n",
      "        \"\"\"Create RPN Stack from string\"\"\"\n",
      "        self.stack = []\n",
      "        self.funs = {\n",
      "            \"+\": self.add(),\n",
      "            \"*\": self.mul(),\n",
      "            \"-\": self.sub(),\n",
      "            \"/\": self.div()}\n",
      "        self.update(inStr)\n",
      "        \n",
      "    def update(self, inStr):\n",
      "        for n in inStr.split():\n",
      "            if self.isnum(n):\n",
      "                print(\"| \", n, \" Number |\")\n",
      "                if '.' in n:\n",
      "                    self.stack.append(float(n))\n",
      "                    print(\"Stack: \",self.stack)\n",
      "                else:\n",
      "                    self.stack.append(int(n))\n",
      "                    print(\"Stack: \",self.stack)\n",
      "#            else:\n",
      "#                if n in self.funs:\n",
      "#                    print(\"Calling: \"+ n)\n",
      "                    # print(self.funs[n])\n",
      "                    # self.funs[n]()\n",
      "#                print(\"| \", n, \"| Not Number |\")\n",
      "        print()\n",
      "    \n",
      "    def getStack(self):\n",
      "        return self.stack\n",
      "    \n",
      "    def isnum(self, n):\n",
      "        return n.replace('.','',1).isdigit()\n",
      "    \n",
      "    def add(self):\n",
      "        n2 = self.stack.pop()\n",
      "        n1 = self.stack.pop()\n",
      "        self.stack.append(n1 + n2)\n",
      "        print(\"Adding: \", n1, n2)\n",
      "\n",
      "    def mul(self):\n",
      "        n2 = self.stack.pop()\n",
      "        n1 = self.stack.pop()\n",
      "        self.stack.append(n1 * n2)\n",
      "        print(\"Multiplying: \", n1, n2)\n",
      "\n",
      "    def sub(self):\n",
      "        n2 = self.stack.pop()\n",
      "        n1 = self.stack.pop()\n",
      "        self.stack.append(n1 - n2)\n",
      "        print(\"Subtracting: \", n1, n2)\n",
      "\n",
      "    def div(self):\n",
      "        n2 = self.stack.pop()\n",
      "        n1 = self.stack.pop()\n",
      "        self.stack.append(n1 / n2)\n",
      "        print(\"Dividing: \", n1, n2)\n"
     ],
     "language": "python",
     "metadata": {},
     "outputs": [],
     "prompt_number": 1
    },
    {
     "cell_type": "code",
     "collapsed": false,
     "input": [
      "R = rpn(\"1 2 + 4.5 *\")\n",
      "print(R.getStack())"
     ],
     "language": "python",
     "metadata": {},
     "outputs": [
      {
       "ename": "IndexError",
       "evalue": "pop from empty list",
       "output_type": "pyerr",
       "traceback": [
        "\u001b[0;31m---------------------------------------------------------------------------\u001b[0m\n\u001b[0;31mIndexError\u001b[0m                                Traceback (most recent call last)",
        "\u001b[0;32m<ipython-input-2-16b54cfa3bb9>\u001b[0m in \u001b[0;36m<module>\u001b[0;34m()\u001b[0m\n\u001b[0;32m----> 1\u001b[0;31m \u001b[0mR\u001b[0m \u001b[0;34m=\u001b[0m \u001b[0mrpn\u001b[0m\u001b[0;34m(\u001b[0m\u001b[0;34m\"1 2 + 4.5 *\"\u001b[0m\u001b[0;34m)\u001b[0m\u001b[0;34m\u001b[0m\u001b[0m\n\u001b[0m\u001b[1;32m      2\u001b[0m \u001b[0mprint\u001b[0m\u001b[0;34m(\u001b[0m\u001b[0mR\u001b[0m\u001b[0;34m.\u001b[0m\u001b[0mgetStack\u001b[0m\u001b[0;34m(\u001b[0m\u001b[0;34m)\u001b[0m\u001b[0;34m)\u001b[0m\u001b[0;34m\u001b[0m\u001b[0m\n",
        "\u001b[0;32m<ipython-input-1-fcc070e3bb7b>\u001b[0m in \u001b[0;36m__init__\u001b[0;34m(self, inStr)\u001b[0m\n\u001b[1;32m      4\u001b[0m         \u001b[0mself\u001b[0m\u001b[0;34m.\u001b[0m\u001b[0mstack\u001b[0m \u001b[0;34m=\u001b[0m \u001b[0;34m[\u001b[0m\u001b[0;34m]\u001b[0m\u001b[0;34m\u001b[0m\u001b[0m\n\u001b[1;32m      5\u001b[0m         self.funs = {\n\u001b[0;32m----> 6\u001b[0;31m             \u001b[0;34m\"+\"\u001b[0m\u001b[0;34m:\u001b[0m \u001b[0mself\u001b[0m\u001b[0;34m.\u001b[0m\u001b[0madd\u001b[0m\u001b[0;34m(\u001b[0m\u001b[0;34m)\u001b[0m\u001b[0;34m,\u001b[0m\u001b[0;34m\u001b[0m\u001b[0m\n\u001b[0m\u001b[1;32m      7\u001b[0m             \u001b[0;34m\"*\"\u001b[0m\u001b[0;34m:\u001b[0m \u001b[0mself\u001b[0m\u001b[0;34m.\u001b[0m\u001b[0mmul\u001b[0m\u001b[0;34m(\u001b[0m\u001b[0;34m)\u001b[0m\u001b[0;34m,\u001b[0m\u001b[0;34m\u001b[0m\u001b[0m\n\u001b[1;32m      8\u001b[0m             \u001b[0;34m\"-\"\u001b[0m\u001b[0;34m:\u001b[0m \u001b[0mself\u001b[0m\u001b[0;34m.\u001b[0m\u001b[0msub\u001b[0m\u001b[0;34m(\u001b[0m\u001b[0;34m)\u001b[0m\u001b[0;34m,\u001b[0m\u001b[0;34m\u001b[0m\u001b[0m\n",
        "\u001b[0;32m<ipython-input-1-fcc070e3bb7b>\u001b[0m in \u001b[0;36madd\u001b[0;34m(self)\u001b[0m\n\u001b[1;32m     35\u001b[0m \u001b[0;34m\u001b[0m\u001b[0m\n\u001b[1;32m     36\u001b[0m     \u001b[0;32mdef\u001b[0m \u001b[0madd\u001b[0m\u001b[0;34m(\u001b[0m\u001b[0mself\u001b[0m\u001b[0;34m)\u001b[0m\u001b[0;34m:\u001b[0m\u001b[0;34m\u001b[0m\u001b[0m\n\u001b[0;32m---> 37\u001b[0;31m         \u001b[0mn2\u001b[0m \u001b[0;34m=\u001b[0m \u001b[0mself\u001b[0m\u001b[0;34m.\u001b[0m\u001b[0mstack\u001b[0m\u001b[0;34m.\u001b[0m\u001b[0mpop\u001b[0m\u001b[0;34m(\u001b[0m\u001b[0;34m)\u001b[0m\u001b[0;34m\u001b[0m\u001b[0m\n\u001b[0m\u001b[1;32m     38\u001b[0m         \u001b[0mn1\u001b[0m \u001b[0;34m=\u001b[0m \u001b[0mself\u001b[0m\u001b[0;34m.\u001b[0m\u001b[0mstack\u001b[0m\u001b[0;34m.\u001b[0m\u001b[0mpop\u001b[0m\u001b[0;34m(\u001b[0m\u001b[0;34m)\u001b[0m\u001b[0;34m\u001b[0m\u001b[0m\n\u001b[1;32m     39\u001b[0m         \u001b[0mself\u001b[0m\u001b[0;34m.\u001b[0m\u001b[0mstack\u001b[0m\u001b[0;34m.\u001b[0m\u001b[0mappend\u001b[0m\u001b[0;34m(\u001b[0m\u001b[0mn1\u001b[0m \u001b[0;34m+\u001b[0m \u001b[0mn2\u001b[0m\u001b[0;34m)\u001b[0m\u001b[0;34m\u001b[0m\u001b[0m\n",
        "\u001b[0;31mIndexError\u001b[0m: pop from empty list"
       ]
      }
     ],
     "prompt_number": 2
    },
    {
     "cell_type": "code",
     "collapsed": false,
     "input": [
      "mySt = [3, 5, 7]\n",
      "print(mySt)\n",
      "mySt.append(mySt.pop() + mySt.pop())\n",
      "print(mySt)"
     ],
     "language": "python",
     "metadata": {},
     "outputs": []
    },
    {
     "cell_type": "code",
     "collapsed": false,
     "input": [],
     "language": "python",
     "metadata": {},
     "outputs": []
    }
   ],
   "metadata": {}
  }
 ]
}