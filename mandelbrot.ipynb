{
 "metadata": {
  "name": "",
  "signature": "sha256:b1e3d761329da3c8ea9b97c114c64cf3ea42aa03967ba2f6218a2b6dc6d69bfc"
 },
 "nbformat": 3,
 "nbformat_minor": 0,
 "worksheets": [
  {
   "cells": [
    {
     "cell_type": "code",
     "collapsed": false,
     "input": [
      "import numpy as np\n",
      "import matplotlib.pyplot as plt\n",
      "def mandelbrot( h,w, maxit=20 ):\n",
      "    \"\"\"Returns an image of the Mandelbrot fractal of size (h,w).\"\"\"\n",
      "    y,x = np.ogrid[ -1.4:1.4:h*1j, -2:0.8:w*1j ]\n",
      "    c = x+y*1j\n",
      "    z = c\n",
      "    divtime = maxit + np.zeros(z.shape, dtype=int)\n",
      "\n",
      "    for i in range(maxit):\n",
      "        z = z**2 + c\n",
      "        diverge = z*np.conj(z) > 2**2            # who is diverging\n",
      "        div_now = diverge & (divtime==maxit)  # who is diverging now\n",
      "        divtime[div_now] = i                  # note when\n",
      "        z[diverge] = 2                        # avoid diverging too much\n",
      "\n",
      "    return divtime\n",
      "plt.imshow(mandelbrot(400,400))\n",
      "plt.show()"
     ],
     "language": "python",
     "metadata": {},
     "outputs": [],
     "prompt_number": 1
    }
   ],
   "metadata": {}
  }
 ]
}