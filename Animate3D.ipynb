{
 "metadata": {
  "name": "",
  "signature": "sha256:8dff818958607bb1767d5c0f87b9d2165c7c100867ff0b1005646c7848be9900"
 },
 "nbformat": 3,
 "nbformat_minor": 0,
 "worksheets": [
  {
   "cells": [
    {
     "cell_type": "code",
     "collapsed": false,
     "input": [
      "import numpy as np\n",
      "from numpy.random import normal as normal\n",
      "print('numpy: '+np.version.full_version)\n",
      "import matplotlib.pyplot as plt\n",
      "from mpl_toolkits.mplot3d import Axes3D \n",
      "import matplotlib.animation as animation\n",
      "import matplotlib\n",
      "print('matplotlib: '+matplotlib.__version__)\n"
     ],
     "language": "python",
     "metadata": {},
     "outputs": [
      {
       "output_type": "stream",
       "stream": "stdout",
       "text": [
        "numpy: 1.11.0\n",
        "matplotlib: 3.0.3"
       ]
      },
      {
       "output_type": "stream",
       "stream": "stdout",
       "text": [
        "\n"
       ]
      }
     ],
     "prompt_number": 1
    },
    {
     "cell_type": "code",
     "collapsed": false,
     "input": [
      "nfr = 30 # Number of frames\n",
      "fps = 10 # Frame per sec\n",
      "xs = []\n",
      "ys = []\n",
      "zs = []\n",
      "ss = np.arange(1,nfr,0.5)\n",
      "for s in ss:\n",
      "    xs.append(normal(50,s,200))\n",
      "    ys.append(normal(50,s,200))\n",
      "    zs.append(normal(50,s,200))\n"
     ],
     "language": "python",
     "metadata": {},
     "outputs": [],
     "prompt_number": 2
    },
    {
     "cell_type": "code",
     "collapsed": false,
     "input": [
      "fig = plt.figure()\n",
      "ax = fig.add_subplot(111, projection='3d')\n",
      "sct, = ax.plot([], [], [], \"o\", markersize=4)\n",
      "def update(ifrm, xa, ya, za):\n",
      "    sct.set_data(xa[ifrm], ya[ifrm])\n",
      "    sct.set_3d_properties(za[ifrm])\n",
      "ax.set_xlim(0,100)\n",
      "ax.set_ylim(0,100)\n",
      "ax.set_zlim(0,100)\n",
      "ani = animation.FuncAnimation(fig, update, nfr, fargs=(xs,ys,zs), interval=1000/fps)\n",
      "plt.show()"
     ],
     "language": "python",
     "metadata": {},
     "outputs": []
    }
   ],
   "metadata": {}
  }
 ]
}