{
 "metadata": {
  "name": "",
  "signature": "sha256:c880724e54c352eafecd645b8f0d40bac58541775dedd00232c00b759faa37b3"
 },
 "nbformat": 3,
 "nbformat_minor": 0,
 "worksheets": [
  {
   "cells": [
    {
     "cell_type": "markdown",
     "metadata": {},
     "source": [
      "$$\\frac{A + B}{A * B}\\;\\;=\\;\\;\\frac{A}{A*B}+\\frac{B}{A*B}\\;\\;=\\;\\;\\frac{1}{B}\\;+\\;\\frac{1}{A}$$\n",
      "\n",
      "$$e^{i\\pi} + 1 = 0$$\n",
      "\n",
      "$$e^x=\\sum_{i=0}^\\infty \\frac{1}{i!}x^i$$\n",
      "\n",
      "```python\n",
      "print(\"Hello World\")\n",
      "```\n",
      "$$\\bar x$$\n",
      "\n",
      "$$\\overline{abs}$$\n",
      "\n",
      "$$\\overline{\\overline{abs}}$$\n",
      "\n",
      "$$\\overline{\\overline{abs} \\;\\; \\overline{\\bar a b \\bar s}}$$\n",
      "\n",
      "\n",
      "!(!(Abc) !(!A B !C)) + !(A ^ B)\n",
      "\n",
      "\\$\\;\\overline{\\;\\overline{Abc}\\;\\;\\overline{\\bar A\\;B\\;\\bar C}\\;}\\;+\\;\\;\\overline{A\\;\\oplus\\;B}\\;$\n",
      "\n",
      "$\\;\\overline{\\;\\overline{Abc}\\;\\;\\overline{\\bar A\\;B\\;\\bar C}\\;}\\;+\\;\\;\\overline{A\\;\\oplus\\;B}\\;$\n",
      "\n",
      "\n",
      "\n",
      "$\\overline{\\overline{A\\;B\\;C} \\;+\\; \\overline{\\bar A\\;B\\;\\bar C}}$\n",
      "\n",
      "$\\;\\overline{\\;\\overline{Abc}\\; \\;\\overline{\\;\\bar A B \\;\\bar C}\\;}\\; + \\;\\overline{A \\;\\oplus\\; B}\\;$\n",
      "\n",
      "$\\;\\overline{\\;\\overline{Abc}\\;\\;\\overline{\\;\\bar A B\\;\\bar C}\\;}\\;+\\;\\overline{A\\;\\oplus\\;B}\\;$\n",
      "\n",
      "!(!(Abc) !(!A B !C)) + !(A ^ B)\n",
      "\n",
      "\\$\\;\\overline{\\;\\overline{Abc}\\;\\;\\overline{\\bar A B\\bar C}\\;}\\;+\\;\\overline{A\\;\\oplus\\;B}\\;$\n",
      "\n",
      "$\\;\\overline{\\;\\overline{Abc}\\;\\;\\overline{\\bar A B\\bar C}\\;}\\;+\\;\\overline{A\\;\\oplus\\;B}\\;$\n",
      "\n",
      "Cary = \n",
      "$A B\\;\\overline{CA\\bar B + C\\bar AB}\\;+\\;\\overline{A B}\\;C A\\bar B +\\;\\overline{A B}\\;C\\bar A B$\n",
      "\n",
      "$A B\\;\\overline(CA\\bar B + C\\bar AB) +\\;\\overline(A B) C A\\bar B +\\;\\overline(A B) C\\bar A B$"
     ]
    },
    {
     "cell_type": "code",
     "collapsed": false,
     "input": [
      "BoolExp = \"!(!(ABC) !(!D E !F)) + !(G ^ H)\"\n",
      "parens = []\n",
      "for i, c in enumerate(BoolExp):\n",
      "    if c == '(':\n",
      "        gs = i\n",
      "        pcount = 1\n",
      "        for j, p in enumerate(BoolExp[i+1:]):\n",
      "            if p == '(':\n",
      "                pcount += 1\n",
      "            if p == ')':\n",
      "                pcount -= 1\n",
      "            if pcount == 0:\n",
      "                ge = i + j + 1\n",
      "                parens.append([gs, ge])\n",
      "                break\n",
      "\n",
      "print('\\n', BoolExp, '\\n')\n",
      "print(parens, '\\n')\n",
      "for gp in parens:\n",
      "    print(gp[0], gp[1], \"\\tGroup: \", BoolExp[gp[0]+1:gp[1]])\n",
      "print(parens[:][1])\n"
     ],
     "language": "python",
     "metadata": {},
     "outputs": [
      {
       "output_type": "stream",
       "stream": "stdout",
       "text": [
        "\n",
        " !(!(ABC) !(!D E !F)) + !(G ^ H) \n",
        "\n",
        "[[1, 19], [3, 7], [10, 18], [24, 30]] \n",
        "\n",
        "1 19 \tGroup:  !(ABC) !(!D E !F)\n",
        "3 7 \tGroup:  ABC\n",
        "10 18 \tGroup:  !D E !F\n",
        "24 30 \tGroup:  G ^ H\n",
        "[3, 7]\n"
       ]
      }
     ],
     "prompt_number": 40
    },
    {
     "cell_type": "code",
     "collapsed": false,
     "input": [
      "# import Markdown\n",
      "\n",
      "# Markdown(\"\"\"\n",
      "# BOOLEAN ALGEBRA\n",
      "## EXPRESSION:\n",
      "# $$\\overline{\\overline{abs} \\;\\; \\overline{\\bar a b \\bar s}}$$\n",
      "# \"\"\")\n"
     ],
     "language": "python",
     "metadata": {},
     "outputs": []
    },
    {
     "cell_type": "code",
     "collapsed": false,
     "input": [
      "import sys\n",
      "syspath = sys.path\n",
      "for s in syspath:\n",
      "    print(s)\n"
     ],
     "language": "python",
     "metadata": {},
     "outputs": [
      {
       "output_type": "stream",
       "stream": "stdout",
       "text": [
        "\n",
        "/usr/lib/python35.zip\n",
        "/usr/lib/python3.5\n",
        "/usr/lib/python3.5/plat-x86_64-linux-gnu\n",
        "/usr/lib/python3.5/lib-dynload\n",
        "/home/darrell/.local/lib/python3.5/site-packages\n",
        "/usr/local/lib/python3.5/dist-packages\n",
        "/usr/lib/python3/dist-packages\n",
        "/usr/lib/python3/dist-packages/IPython/extensions\n"
       ]
      }
     ],
     "prompt_number": 2
    },
    {
     "cell_type": "markdown",
     "metadata": {},
     "source": [
      "$\\odot$ \\quad $\\oplus$ \\quad $\\otimes$ \\quad $\\ominus$ \\quad $\\oslash$\n",
      "\n",
      "$\\Huge x=\\frac{-b\\pm\\sqrt{b^2-4ac}}{2a}$\n",
      "\n",
      "$\\large \\;\\overline{\\;\\overline{Abc}\\;\\;\\overline{\\bar A\\;B\\;\\bar C}\\;}\\;+\\;\\;\\overline{A\\;\\oplus\\;B}\\;$\n",
      " "
     ]
    },
    {
     "cell_type": "code",
     "collapsed": false,
     "input": [],
     "language": "python",
     "metadata": {},
     "outputs": []
    }
   ],
   "metadata": {}
  }
 ]
}