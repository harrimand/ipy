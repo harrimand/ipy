{
 "metadata": {
  "name": "",
  "signature": "sha256:fd831627dbaac0dc70bd7ff0593ca6b7ec9419e097b02c4b77023fff0359abdc"
 },
 "nbformat": 3,
 "nbformat_minor": 0,
 "worksheets": [
  {
   "cells": [
    {
     "cell_type": "code",
     "collapsed": false,
     "input": [
      "import math\n",
      "import gi\n",
      "gi.require_version('Gtk', '3.0')\n",
      "\n",
      "from gi.repository import Gtk \n",
      "\n",
      "class UserInput(Gtk.Window):\n",
      "\n",
      "    def __init__(self):\n",
      "        Gtk.Window.__init__(self, title=\"Widgetry Wizzard\")\n",
      "        self.set_border_width(10)\n",
      "        self.set_size_request(600, 500)\n",
      "        self.set_position(Gtk.WindowPosition.CENTER)\n",
      "\n",
      "        # Layout\n",
      "        vbox = Gtk.Box(orientation=Gtk.Orientation.VERTICAL, spacing=10)\n",
      "        self.add(vbox)\n",
      "\n",
      "        # TextView added to vbox\n",
      "        self.textview = Gtk.Entry()\n",
      "        self.textbuffer = self.textview.get_buffer()\n",
      "        vbox.pack_start(self.textview, False, False, 0)\n",
      "        \n",
      "        # Add eventbox to hbox\n",
      "        self.eventbox = Gtk.EventBox()\n",
      "        self.eventbox.connect(\"button-press-event\", self.image_clicked)\n",
      "        vbox.pack_start(self.eventbox, True, True, 0)\n",
      "\n",
      "        darea = Gtk.DrawingArea()\n",
      "        darea.connect(\"draw\", self.expose) # Replace 'expose-event' with draw\n",
      "        self.eventbox.add(darea)\n",
      "        \n",
      "    def expose(self, widget, event):\n",
      "        cr = widget.get_property('window').cairo_create()\n",
      "        cr.rectangle(20, 20, 540, 400)\n",
      "        cr.set_source_rgb(.7, .1, .9)\n",
      "        cr.fill()\n",
      "        \n",
      "    def image_clicked(self, widget, event):\n",
      "        cr = widget.get_property('window').cairo_create()\n",
      "        x = event.x\n",
      "        y = event.y\n",
      "        xy = \" X: {0:.2f}   Y: {1:.2f}\".format(x, y)\n",
      "        print(\"\\t\", xy)\n",
      "#        end_iter = self.textbuffer.get_end_iter()\n",
      "        self.textview.set_text(xy)\n",
      "#        self.textbuffer.insert(end_iter, xy)        \n",
      "        cr.arc(x, y, 20, 0, 2*math.pi)\n",
      "        cr.set_source_rgb(0.1, 0.9, 0.9)\n",
      "        cr.fill()        \n",
      "        \n",
      "        \n",
      "window = UserInput()\n",
      "window.connect(\"delete-event\", Gtk.main_quit)\n",
      "window.show_all()\n",
      "Gtk.main()\n"
     ],
     "language": "python",
     "metadata": {},
     "outputs": [
      {
       "output_type": "stream",
       "stream": "stdout",
       "text": [
        "\t  X: 205.42   Y: 154.02\n",
        "\t"
       ]
      },
      {
       "output_type": "stream",
       "stream": "stdout",
       "text": [
        "  X: 321.68   Y: 226.46\n",
        "\t"
       ]
      },
      {
       "output_type": "stream",
       "stream": "stdout",
       "text": [
        "  X: 381.98   Y: 137.58\n",
        "\t"
       ]
      },
      {
       "output_type": "stream",
       "stream": "stdout",
       "text": [
        "  X: 262.22   Y: 310.87\n",
        "\t"
       ]
      },
      {
       "output_type": "stream",
       "stream": "stdout",
       "text": [
        "  X: 38.36   Y: 35.16\n",
        "\t"
       ]
      },
      {
       "output_type": "stream",
       "stream": "stdout",
       "text": [
        "  X: 34.46   Y: 405.09\n",
        "\t"
       ]
      },
      {
       "output_type": "stream",
       "stream": "stdout",
       "text": [
        "  X: 32.46   Y: 419.09\n",
        "\t"
       ]
      },
      {
       "output_type": "stream",
       "stream": "stdout",
       "text": [
        "  X: 6.46   Y: 440.09\n",
        "\t"
       ]
      },
      {
       "output_type": "stream",
       "stream": "stdout",
       "text": [
        "  X: 557.22   Y: 417.04\n",
        "\t"
       ]
      },
      {
       "output_type": "stream",
       "stream": "stdout",
       "text": [
        "  X: 556.58   Y: 25.53\n",
        "\t"
       ]
      },
      {
       "output_type": "stream",
       "stream": "stdout",
       "text": [
        "  X: 25.50   Y: 26.89\n",
        "\t"
       ]
      },
      {
       "output_type": "stream",
       "stream": "stdout",
       "text": [
        "  X: 28.50   Y: 6.89\n",
        "\t"
       ]
      },
      {
       "output_type": "stream",
       "stream": "stdout",
       "text": [
        "  X: 3.50   Y: 3.89\n",
        "\t"
       ]
      },
      {
       "output_type": "stream",
       "stream": "stdout",
       "text": [
        "  X: 2.50   Y: 12.89\n",
        "\t"
       ]
      },
      {
       "output_type": "stream",
       "stream": "stdout",
       "text": [
        "  X: 274.51   Y: 224.18\n",
        "\t"
       ]
      },
      {
       "output_type": "stream",
       "stream": "stdout",
       "text": [
        "  X: 244.66   Y: 116.18\n",
        "\t"
       ]
      },
      {
       "output_type": "stream",
       "stream": "stdout",
       "text": [
        "  X: 148.02   Y: 321.42\n",
        "\t"
       ]
      },
      {
       "output_type": "stream",
       "stream": "stdout",
       "text": [
        "  X: 126.98   Y: 76.50\n"
       ]
      }
     ],
     "prompt_number": 1
    },
    {
     "cell_type": "code",
     "collapsed": false,
     "input": [],
     "language": "python",
     "metadata": {},
     "outputs": [],
     "prompt_number": 12
    },
    {
     "cell_type": "code",
     "collapsed": false,
     "input": [],
     "language": "python",
     "metadata": {},
     "outputs": []
    }
   ],
   "metadata": {}
  }
 ]
}