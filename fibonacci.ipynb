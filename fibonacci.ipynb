{
 "metadata": {
  "name": "",
  "signature": "sha256:a19f62b363f51a0c187c499df9706b94d6a6c268b88547debd351047efedc7e7"
 },
 "nbformat": 3,
 "nbformat_minor": 0,
 "worksheets": [
  {
   "cells": [
    {
     "cell_type": "code",
     "collapsed": false,
     "input": [
      "\n",
      "def fibList(n):\n",
      "    fibL = [1, 1]\n",
      "    for i in range(2, n):\n",
      "        fibL.extend([fibL[i-2] + fibL[i-1]])\n",
      "    return fibL\n",
      "\n",
      "fib = fibList(24)\n",
      "print(fib)\n",
      "print(\"-\"*60)\n",
      "\n",
      "\n"
     ],
     "language": "python",
     "metadata": {},
     "outputs": [
      {
       "output_type": "stream",
       "stream": "stdout",
       "text": [
        "[1, 1, 2, 3, 5, 8, 13, 21, 34, 55, 89, 144, 233, 377, 610, 987, 1597, 2584, 4181, 6765, 10946, 17711, 28657, 46368]\n",
        "------------------------------------------------------------\n"
       ]
      }
     ],
     "prompt_number": 30
    },
    {
     "cell_type": "code",
     "collapsed": false,
     "input": [],
     "language": "python",
     "metadata": {},
     "outputs": []
    }
   ],
   "metadata": {}
  }
 ]
}