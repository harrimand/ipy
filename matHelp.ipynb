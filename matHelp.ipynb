{
 "metadata": {
  "name": "",
  "signature": "sha256:4a77562ece3a96634231e2ab07616a19276a1e79c919f9d20367447deec0ee08"
 },
 "nbformat": 3,
 "nbformat_minor": 0,
 "worksheets": [
  {
   "cells": [
    {
     "cell_type": "code",
     "collapsed": false,
     "input": [
      "from matrix import Mat\n",
      "\n",
      "M1 = Mat([[2, 3, 4], [5, 6, 7], [8, 9, 1]])\n",
      "M1.show()\n",
      "M1.setAutoShow(True)\n",
      "\n",
      "M1.setPrecision(1)\n",
      "\n",
      "M1.showRows()\n",
      "\n",
      "M1.help()\n"
     ],
     "language": "python",
     "metadata": {},
     "outputs": [
      {
       "output_type": "stream",
       "stream": "stdout",
       "text": [
        "|   2.000   3.000   4.000  |\n",
        "|   5.000   6.000   7.000  |\n",
        "|   8.000   9.000   1.000  |\n",
        "\n",
        "\n",
        "Setting autoShow to  True\n",
        "Setting display precision to  1\n",
        "|     2.0     3.0     4.0  |\n",
        "|     5.0     6.0     7.0  |\n",
        "|     8.0     9.0     1.0  |\n",
        "\n",
        "\n",
        "\tRow 1:  [2, 3, 4]\n",
        "\tRow 2:  [5, 6, 7]\n",
        "\tRow 3:  [8, 9, 1]\n",
        "\n",
        "\n",
        "\n",
        "        R(r) Get row from 2D List\n",
        "        augmentI() Augment with len(list) by len(list) Identity Matrix\n",
        "        swapRows(rX, rY) Exchange row rX with row rY\n",
        "        addRows(rx, tx, [con=1]) Add (row tx * con) to row rx\n",
        "        subRows(rx, tx, [con=1]) Subtract (row tx * con) from row rx\n",
        "        mulRow(rx, [con=1]) Multiply row rx by a constant\n",
        "        divRow(rx, [con=1]) Divide row rx by a constant\n",
        "        show() Print Matrix (values formated with set precision)\n",
        "        showRows() Display labeled rows of matrix without formatting\n",
        "        setAutoShow([True|False]) Automatic display after row operations\n",
        "        setPrecision([P=3]) Set displayed precision of elements in matrix.\n",
        "        subMatrixRight() Replace Matrix with right half of matrix\n",
        "        get() Returns 2d list populated with matrix values\n"
       ]
      }
     ],
     "prompt_number": 4
    },
    {
     "cell_type": "code",
     "collapsed": false,
     "input": [],
     "language": "python",
     "metadata": {},
     "outputs": []
    }
   ],
   "metadata": {}
  }
 ]
}