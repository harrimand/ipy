{
 "metadata": {
  "name": "",
  "signature": "sha256:cb501e036b52aa0ca477f4fb314d5d776dcf317e275622934f25f0b0248bdc31"
 },
 "nbformat": 3,
 "nbformat_minor": 0,
 "worksheets": [
  {
   "cells": [
    {
     "cell_type": "code",
     "collapsed": false,
     "input": [
      "import numpy as np"
     ],
     "language": "python",
     "metadata": {},
     "outputs": [],
     "prompt_number": 1
    },
    {
     "cell_type": "code",
     "collapsed": false,
     "input": [
      "def possible(y, x, n):\n",
      "    global grid\n",
      "    if n in [grid[y][c] for c in range(9)]:\n",
      "        return False\n",
      "    if n in [grid[r][x] for r in range(9)]:\n",
      "        return False\n",
      "    return n not in [[grid[r + y//3*3][c + x//3*3] for c in range(3)] for r in range(3)]\n"
     ],
     "language": "python",
     "metadata": {},
     "outputs": [],
     "prompt_number": 2
    },
    {
     "cell_type": "code",
     "collapsed": false,
     "input": [
      "def possible2(y, x, n):\n",
      "    global grid\n",
      "    for i in range(0, 9):\n",
      "        if grid[y][i] == n:\n",
      "            return False\n",
      "    for i in range(0, 9):\n",
      "        if grid[i][x] == n:\n",
      "            return False\n",
      " \n",
      "    x0 = (x//3)*3\n",
      "    y0 = (y//3)*3\n",
      "    for i in range(0, 3):\n",
      "        for j in range(0, 3):\n",
      "            if grid[y0 + i][x0 + j] == n:\n",
      "                return False\n",
      "    return True\n"
     ],
     "language": "python",
     "metadata": {},
     "outputs": [],
     "prompt_number": 3
    },
    {
     "cell_type": "code",
     "collapsed": false,
     "input": [
      "def solve():\n",
      "    global grid\n",
      "    for y in range(9):\n",
      "        for x in range(9):\n",
      "            if grid[y][x] == 0:\n",
      "                for n in range(1, 10):\n",
      "                    if possible(y, x, n):\n",
      "                        grid[y][x] = n\n",
      "                        solve()\n",
      "                        grid[y][x] = 0\n",
      "                return\n",
      "    print(np.matrix(grid))\n",
      "    input(\"more?\")"
     ],
     "language": "python",
     "metadata": {},
     "outputs": [],
     "prompt_number": 4
    },
    {
     "cell_type": "code",
     "collapsed": false,
     "input": [
      "'''\n",
      "grid = [[5,3,0,0,7,0,0,0,0],\n",
      "        [6,0,0,1,9,5,0,0,0],\n",
      "        [0,9,8,0,0,0,0,6,0],\n",
      "        [8,0,0,0,6,0,0,0,3],\n",
      "        [4,0,0,8,0,3,0,0,1],\n",
      "        [7,0,0,0,2,0,0,0,6],\n",
      "        [0,6,0,0,0,0,2,8,0],\n",
      "        [0,0,0,4,1,9,0,0,5],\n",
      "        [0,0,0,0,8,0,0,0,0]]\n",
      "'''\n",
      "\n",
      "grid = np.zeros((9,9), dtype=int)\n"
     ],
     "language": "python",
     "metadata": {},
     "outputs": []
    },
    {
     "cell_type": "code",
     "collapsed": false,
     "input": [
      "solve()"
     ],
     "language": "python",
     "metadata": {},
     "outputs": [
      {
       "output_type": "stream",
       "stream": "stdout",
       "text": [
        "[[1 2 3 4 5 6 7 8 9]\n",
        " [2 1 4 3 6 5 8 9 7]\n",
        " [3 4 1 2 7 8 9 5 6]\n",
        " [4 3 2 1 8 9 6 7 5]\n",
        " [5 6 7 8 9 1 2 3 4]\n",
        " [6 5 8 9 1 7 3 4 2]\n",
        " [7 8 9 5 2 3 4 6 1]\n",
        " [8 9 6 7 4 2 5 1 3]\n",
        " [9 7 5 6 3 4 1 2 8]]\n"
       ]
      },
      {
       "name": "stdout",
       "output_type": "stream",
       "stream": "stdout",
       "text": [
        "more?\n"
       ]
      },
      {
       "output_type": "stream",
       "stream": "stdout",
       "text": [
        "[[1 2 3 4 5 6 7 8 9]\n",
        " [2 1 4 3 6 5 8 9 7]\n",
        " [3 4 1 2 7 8 9 5 6]\n",
        " [4 3 2 1 8 9 6 7 5]\n",
        " [5 6 7 8 9 1 2 3 4]\n",
        " [6 5 8 9 1 7 3 4 2]\n",
        " [7 8 9 5 2 3 4 6 1]\n",
        " [9 7 5 6 3 4 1 2 8]\n",
        " [8 9 6 7 4 2 5 1 3]]\n"
       ]
      }
     ]
    },
    {
     "cell_type": "code",
     "collapsed": false,
     "input": [],
     "language": "python",
     "metadata": {},
     "outputs": []
    }
   ],
   "metadata": {}
  }
 ]
}