{
 "metadata": {
  "name": "",
  "signature": "sha256:1dd077d2ad338409ce0af1c7ba34a3c93aacf121a22d612377be9e14643f7995"
 },
 "nbformat": 3,
 "nbformat_minor": 0,
 "worksheets": [
  {
   "cells": [
    {
     "cell_type": "code",
     "collapsed": false,
     "input": [
      "import numpy as np\n",
      "import matplotlib.pyplot as plt\n",
      "from mpl_toolkits.mplot3d import Axes3D\n",
      "\n",
      "point  = np.array([1, 2, 3])\n",
      "normal = np.array([1, 1, 2])\n",
      "# a plane is a*x+b*y+c*z+d=0\n",
      "\n",
      "d = -point.dot(normal)\n",
      "\n",
      "# create x,y\n",
      "xx, yy = np.meshgrid(range(10), range(10))\n",
      "\n",
      "# calculate corresponding z\n",
      "z = (-normal[0] * xx - normal[1] * yy - d) * 1. /normal[2]\n",
      "\n",
      "# plot the surface\n",
      "plt3d = plt.figure().gca(projection='3d')\n",
      "\n",
      "plt.ion()\n",
      "\n",
      "plt3d.plot_surface(xx, yy, z, alpha=0.2)\n",
      "\n",
      "plt3d.set_xlabel(\"X X X\")\n",
      "plt3d.set_ylabel(\"Y Y Y\")\n",
      "plt3d.set_zlabel(\"Z Z Z\")\n",
      "\n",
      "\n",
      "xl = [0, 10]\n",
      "yl = [5, 5]\n",
      "zl = [0, 0]\n",
      "\n",
      "plt3d.plot(xl, yl, zl)\n",
      "\n",
      "plt.show()\n",
      "print(\"Run\")\n",
      "print(\"point: \", point)\n",
      "print(\"normal: \", normal)\n",
      "print(\"-point.dot(normal): \", d)\n",
      "\n",
      "print(xx)\n",
      "print(\"\\n\")\n",
      "print(yy)\n",
      "print(\"\\n\")\n",
      "print(z)\n",
      "\n",
      "px, py = 1, 2\n",
      "pz = z[px, py]\n",
      "plt3d.scatter(px, py, pz, 'ro')\n"
     ],
     "language": "python",
     "metadata": {},
     "outputs": [
      {
       "output_type": "stream",
       "stream": "stdout",
       "text": [
        "Run\n",
        "point:  [1 2 3]\n",
        "normal:  [1 1 2]\n",
        "-point.dot(normal):  -9\n",
        "[[0 1 2 3 4 5 6 7 8 9]\n",
        " [0 1 2 3 4 5 6 7 8 9]\n",
        " [0 1 2 3 4 5 6 7 8 9]\n",
        " [0 1 2 3 4 5 6 7 8 9]\n",
        " [0 1 2 3 4 5 6 7 8 9]\n",
        " [0 1 2 3 4 5 6 7 8 9]\n",
        " [0 1 2 3 4 5 6 7 8 9]\n",
        " [0 1 2 3 4 5 6 7 8 9]\n",
        " [0 1 2 3 4 5 6 7 8 9]\n",
        " [0 1 2 3 4 5 6 7 8 9]]\n",
        "\n",
        "\n",
        "[[0 0 0 0 0 0 0 0 0 0]\n",
        " [1 1 1 1 1 1 1 1 1 1]\n",
        " [2 2 2 2 2 2 2 2 2 2]\n",
        " [3 3 3 3 3 3 3 3 3 3]\n",
        " [4 4 4 4 4 4 4 4 4 4]\n",
        " [5 5 5 5 5 5 5 5 5 5]\n",
        " [6 6 6 6 6 6 6 6 6 6]\n",
        " [7 7 7 7 7 7 7 7 7 7]\n",
        " [8 8 8 8 8 8 8 8 8 8]\n",
        " [9 9 9 9 9 9 9 9 9 9]]\n",
        "\n",
        "\n",
        "[[ 4.5  4.   3.5  3.   2.5  2.   1.5  1.   0.5  0. ]\n",
        " [ 4.   3.5  3.   2.5  2.   1.5  1.   0.5  0.  -0.5]\n",
        " [ 3.5  3.   2.5  2.   1.5  1.   0.5  0.  -0.5 -1. ]\n",
        " [ 3.   2.5  2.   1.5  1.   0.5  0.  -0.5 -1.  -1.5]\n",
        " [ 2.5  2.   1.5  1.   0.5  0.  -0.5 -1.  -1.5 -2. ]\n",
        " [ 2.   1.5  1.   0.5  0.  -0.5 -1.  -1.5 -2.  -2.5]\n",
        " [ 1.5  1.   0.5  0.  -0.5 -1.  -1.5 -2.  -2.5 -3. ]\n",
        " [ 1.   0.5  0.  -0.5 -1.  -1.5 -2.  -2.5 -3.  -3.5]\n",
        " [ 0.5  0.  -0.5 -1.  -1.5 -2.  -2.5 -3.  -3.5 -4. ]\n",
        " [ 0.  -0.5 -1.  -1.5 -2.  -2.5 -3.  -3.5 -4.  -4.5]]\n"
       ]
      },
      {
       "metadata": {},
       "output_type": "pyout",
       "prompt_number": 14,
       "text": [
        "<mpl_toolkits.mplot3d.art3d.Path3DCollection at 0x7f966d6f3b38>"
       ]
      }
     ],
     "prompt_number": 14
    },
    {
     "cell_type": "code",
     "collapsed": false,
     "input": [
      "plt3d.plot(yl, xl, zl, c='b')\n",
      "plt3d.plot(yl, yl, [-5, 5], c='m')"
     ],
     "language": "python",
     "metadata": {},
     "outputs": [
      {
       "metadata": {},
       "output_type": "pyout",
       "prompt_number": 15,
       "text": [
        "[<mpl_toolkits.mplot3d.art3d.Line3D at 0x7f966d659278>]"
       ]
      }
     ],
     "prompt_number": 15
    }
   ],
   "metadata": {}
  }
 ]
}