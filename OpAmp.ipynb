{
 "metadata": {
  "name": "",
  "signature": "sha256:b8b4b134eebf8cbd42af2742398ab6a3998f9cf86b8a2d0510d20ffb490c0472"
 },
 "nbformat": 3,
 "nbformat_minor": 0,
 "worksheets": [
  {
   "cells": [
    {
     "cell_type": "markdown",
     "metadata": {},
     "source": [
      "[//]: # \" All this for a comment which must be in quotes!!!\"\n",
      "[//]: # \"![Non Inverting Op Amp](OpAmpNonInv.png)*/\"\n",
      "<img src=\"OpAmpNonInv.png\" width=\"600\" height=\"400\">"
     ]
    },
    {
     "cell_type": "markdown",
     "metadata": {},
     "source": [
      "## <p>Non Inverting Op Amp Output Voltage</p>\n",
      "<br><br>\n",
      "$ \\Huge I1 = I2$\n",
      "<br><br>\n",
      "$ \\Huge \\frac{V_{in}}{R1}\\;=\\;\\frac{V_{out}}{R2}$\n",
      "<br><br>\n",
      "## <p>Kirchoff's Volage Divider</p>\n",
      "<br>\n",
      "$ \\Huge V = V_{out}\\;\\times\\;\\frac{R1}{R1\\;+\\;R2}$\n",
      "<br><br>\n",
      "$ \\Huge V_{out}\\;=\\;\\frac{V}{\\frac{R1}{R1\\;+\\;R2}}$\n",
      "<br><br>\n",
      "$ \\Huge V_{out}\\;=\\;V\\;\\times\\;\\frac{R1\\;+\\;R2}{R1}$\n",
      "<br><br>\n",
      "$ \\Huge V_{out}\\;=\\;V\\;\\times\\;\\left(1\\;+\\;\\frac{R2}{R1}\\right)$"
     ]
    },
    {
     "cell_type": "code",
     "collapsed": false,
     "input": [],
     "language": "python",
     "metadata": {},
     "outputs": []
    }
   ],
   "metadata": {}
  }
 ]
}