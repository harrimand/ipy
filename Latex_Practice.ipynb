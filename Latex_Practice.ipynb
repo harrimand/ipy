{
 "metadata": {
  "name": "",
  "signature": "sha256:d52bfdd45f4312892ff3ec401d7c50d3830f2fe5e00589125bc998b5fe29b679"
 },
 "nbformat": 3,
 "nbformat_minor": 0,
 "worksheets": [
  {
   "cells": [
    {
     "cell_type": "markdown",
     "metadata": {},
     "source": [
      "##<p align=\"left\">$\\odot\\;\\;\\quad$</p>\n",
      "##<p align=\"left\">$\\oplus\\;\\;\\otimes$</p>\n",
      "$$\n",
      "\\begin{align}\n",
      "\\oplus\\;\\;\\quad\\\\\n",
      "\\otimes\\;\\;\\quad\\\\\n",
      "\\ominus\\;\\;\\quad\\\\\n",
      "\\oslash\\;\\;\\\\\n",
      "\\end{align}\n",
      "</p>\n",
      "$$\n",
      "#<p align=\"left\">\n",
      "#$\\Huge x=\\frac{-b\\pm\\sqrt{b^2-4ac}}{2a}$\n",
      "<br><br>\n",
      "#$\\Huge x=\\frac{-b\\pm\\sqrt{b^2-4ac}}{2a}$\n",
      "<br><br>\n",
      "$\\Huge V_{out} = V_s\\;\\dot\\;\\left(1 - e^{-\\frac{t}{R C}}\\right)$\n",
      "<br><br>\n",
      "$\\Huge \\frac{V_{out}}{V_s}\\;=\\;1 - e^{\\frac{-t}{R C}}$\n",
      "<br><br>\n",
      "$\\Huge -1 \\left(\\frac{V_{out}}{V_s}-1\\right)\\;=\\;e^{\\frac{-t}{R C}}$\n",
      "<br><br>\n",
      "$\\Huge \\left(\\frac{-V_{out}}{V_s}+1\\right)\\;=\\;e^{\\frac{-t}{R C}}$\n",
      "<br><br>\n",
      "$\\Huge ln\\left(\\frac{-V_{out}}{V_s}+1\\right)\\;=\\;ln\\;\\; e^{\\frac{-t}{R C}}$\n",
      "<br><br>\n",
      "$\\Huge ln\\left(\\frac{-V_{out}}{V_s}+1\\right)\\;=\\;\\frac{-t}{R C}$\n",
      "<br><br>\n",
      "$\\Huge ln\\left(\\frac{-V_{out}}{V_s}+1\\right) (R\\;\\dot\\;C) \\;=\\; -t$\n",
      "<br><br>\n",
      "$\\Huge -ln\\left(\\frac{-V_{out}}{V_s}+1\\right) (R\\;\\dot\\;C) \\;=\\; t$\n",
      "<br><br>\n",
      "$\\Huge t\\;=\\;-ln\\left(\\frac{-V_{out}}{V_s}+1\\right) (R\\;\\dot\\;C)$\n",
      "</p>\n"
     ]
    },
    {
     "cell_type": "markdown",
     "metadata": {},
     "source": [
      "#<p align=\"left\">\n",
      "$\\Huge X_c = \\frac{1}{2 \\cdot \\pi \\cdot F \\cdot C}$\n",
      "</p>"
     ]
    },
    {
     "cell_type": "code",
     "collapsed": false,
     "input": [
      "%%html\n",
      "<style>\n",
      "table {float:left}\n",
      "</style>"
     ],
     "language": "python",
     "metadata": {},
     "outputs": [
      {
       "html": [
        "<style>\n",
        "table {float:left}\n",
        "</style>"
       ],
       "metadata": {},
       "output_type": "display_data",
       "text": [
        "<IPython.core.display.HTML at 0x7fcde57e5ac8>"
       ]
      }
     ],
     "prompt_number": 10
    },
    {
     "cell_type": "markdown",
     "metadata": {},
     "source": [
      "|Column1|Column2|Column3|  \n",
      "| :--: | :--: | :--: |  \n",
      "|`Item1`|Item2|`Item3`|  \n",
      "|Item4|`Item5`|Item6|  \n"
     ]
    }
   ],
   "metadata": {}
  }
 ]
}