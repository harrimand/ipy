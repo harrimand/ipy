{
 "metadata": {
  "name": "",
  "signature": "sha256:e2b79caf0d851df2c934caab537b45a7a7f8449c516d9bc75973f76313518199"
 },
 "nbformat": 3,
 "nbformat_minor": 0,
 "worksheets": [
  {
   "cells": [
    {
     "cell_type": "code",
     "collapsed": false,
     "input": [
      "import random\n",
      "word = \"abcdefghijklmno't,\"\n",
      "print(\"Word Length: {0}\\n\".format(len(word)))\n",
      "\n",
      "\n",
      "def scram(w):\n",
      "    wordL = [c for c in w]\n",
      "    print(wordL)\n",
      "    lng = len(w)-1\n",
      "    print(\"\\n\\tfinding . or , :\", wordL[-1:], lng)\n",
      "    lng -= 1 if wordL[-1:] == ['.'] or wordL[-1:] == [','] else 0\n",
      "    print(\"\\n\\tLen\", lng)\n",
      "    \n",
      "    print(\"\\n\\tfinding \\' :\", wordL[-2], lng)\n",
      "    lng -= 1 if '\\'' in wordL else 0\n",
      "    print(\"\\n\\tLen\", lng)\n",
      "    \n",
      "    for j in range(lng):\n",
      "        for i in range(1, lng):\n",
      "            rnd = random.randrange(lng-1)+1\n",
      "            temp = wordL[i]\n",
      "            wordL[i] = wordL[rnd]\n",
      "            wordL[rnd] = temp\n",
      "            print(\".\", end=\"\")\n",
      "    scramWord = \"\".join(wordL)        \n",
      "    print()\n",
      "    return scramWord\n",
      "            \n",
      "            \n",
      "print(word)\n",
      "sWord = scram(word)\n",
      "print(sWord)"
     ],
     "language": "python",
     "metadata": {},
     "outputs": [
      {
       "output_type": "stream",
       "stream": "stdout",
       "text": [
        "Word Length: 18\n",
        "\n",
        "abcdefghijklmno't,\n",
        "['a', 'b', 'c', 'd', 'e', 'f', 'g', 'h', 'i', 'j', 'k', 'l', 'm', 'n', 'o', \"'\", 't', ',']\n",
        "\n",
        "\tfinding . or , : [','] 17\n",
        "\n",
        "\tLen 16\n",
        "\n",
        "\tfinding ' : t 16\n",
        "\n",
        "\tLen 15\n",
        "..................................................................................................................................................................................................................\n",
        "amkibnlhgcofdje't,\n"
       ]
      }
     ],
     "prompt_number": 57
    },
    {
     "cell_type": "code",
     "collapsed": false,
     "input": [],
     "language": "python",
     "metadata": {},
     "outputs": []
    }
   ],
   "metadata": {}
  }
 ]
}